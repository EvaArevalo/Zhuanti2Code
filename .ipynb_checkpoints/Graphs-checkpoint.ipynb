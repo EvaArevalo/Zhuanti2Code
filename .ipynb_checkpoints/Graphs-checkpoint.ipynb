{
 "cells": [
  {
   "cell_type": "markdown",
   "metadata": {},
   "source": [
    "# Graphing"
   ]
  },
  {
   "cell_type": "code",
   "execution_count": 43,
   "metadata": {},
   "outputs": [],
   "source": [
    "#Import plotly\n",
    "import plotly.plotly as py\n",
    "import plotly.graph_objs as go\n",
    "import plotly.figure_factory as ff\n",
    "import pandas as pd\n",
    "import plotly\n",
    "\n",
    "import random\n",
    "import plotly\n",
    "import plotly.plotly as py\n",
    "import plotly.graph_objs as go\n",
    "from plotly.graph_objs import *\n",
    "\n",
    "#plotly.tools.set_credentials_file(username='EvaArevalo', api_key='LyrWvnfIuDuldFKnlZVB')\n",
    "plotly.tools.set_credentials_file(username='evar_3712', api_key='b7ZUrlshqrH5CEhDzvmt')"
   ]
  },
  {
   "cell_type": "code",
   "execution_count": 49,
   "metadata": {},
   "outputs": [],
   "source": [
    "#10 epochs, 2000 features\n",
    "loss2 = [0.1174, 0.0572, 0.0440, 0.0383, 0.0320, 0.0295, 0.0248, 0.0234, 0.0184, 0.0171]\n",
    "accuracy2 = [0.8560, 0.9291, 0.9344, 0.9380, 0.9416, 0.9454, 0.9470, 0.9498, 0.9516, 0.9536]\n",
    "\n",
    "#10 epochs, 4000 features\n",
    "loss3 = [0.3046, 0.2144, 0.1963, 0.1634, 0.1715, 0.1618, 0.1539, 0.1472, 0.1407,\n",
    "        0.1326]\n",
    "accuracy3 = [0.9508, 0.9781, 0.9847, 0.9874, 0.9884, 0.9901, 0.9907, 0.9910, \n",
    "             0.9931, 0.9940]\n",
    "\n",
    "#10 epochs, 1000 features\n",
    "loss1 = [0.1207, 0.0561, 0.0444, 0.0363, 0.0313, 0.0283, 0.0243, 0.0208, 0.0222,0.0186]\n",
    "accuracy1 = [0.9528, 0.9795, 0.9833, 0.9868, 0.9895, 0.9907, 0.9912, 0.9928, 0.9921, \n",
    "             0.9939]\n",
    "\n",
    "#10 epochs, 8000 features\n",
    "loss4 = [0.1251, 0.0572, 0.0438, 0.0372, 0.0307, 0.0289, 0.0247, 0.0235, 0.0195,\n",
    "       0.0184]\n",
    "accuracy4 = [0.9512, 0.9791,  0.9849, 0.9862, 0.9893, 0.9897, 0.9908, 0.9917, \n",
    "           0.9928, 0.9931]\n",
    "\n",
    "\n"
   ]
  },
  {
   "cell_type": "code",
   "execution_count": null,
   "metadata": {},
   "outputs": [],
   "source": [
    "#10 epochs, 2000 features\n",
    "score1 = 0.08\n",
    "acc1 = 0.98\n",
    "#10 epochs, 8000 features\n",
    "score = 0.07\n",
    "acc = 0.98\n",
    "#10 epochs, 1000 features\n",
    "score = 0.77\n",
    "acc = 0.52\n",
    "#10 epochs, 4000 features\n",
    "score = 0.08\n",
    "acc = 0.98"
   ]
  },
  {
   "cell_type": "code",
   "execution_count": null,
   "metadata": {},
   "outputs": [],
   "source": [
    "#10 epochs, 2000 features\n",
    "Positive Accuracy 97.82157676348547 %\n",
    "Negative Accuracy 98.17047817047818 %\n",
    "1886\n",
    "1928\n",
    "2361\n",
    "2405\n",
    "#10 epochs, 1000 features\n",
    "Positive Accuracy 29.878048780487802 %\n",
    "Negative Accuracy 70.61611374407583 %\n",
    "196\n",
    "656\n",
    "596\n",
    "844\n",
    "#10 epochs, 4000 features\n",
    "Positive Accuracy 98.39211618257261 %\n",
    "Negative Accuracy 97.92099792099792 %\n",
    "1897\n",
    "1928\n",
    "2355\n",
    "2405\n",
    "#10 epochs, 8000 features\n",
    "Positive Accuracy 97.82157676348547 %\n",
    "Negative Accuracy 97.83783783783784 %\n",
    "1886\n",
    "1928\n",
    "2353\n",
    "2405"
   ]
  },
  {
   "cell_type": "code",
   "execution_count": null,
   "metadata": {},
   "outputs": [],
   "source": []
  },
  {
   "cell_type": "markdown",
   "metadata": {},
   "source": [
    "## Plot Loss"
   ]
  },
  {
   "cell_type": "code",
   "execution_count": 52,
   "metadata": {},
   "outputs": [
    {
     "data": {
      "text/html": [
       "<iframe id=\"igraph\" scrolling=\"no\" style=\"border:none;\" seamless=\"seamless\" src=\"https://plot.ly/~evar_3712/18.embed\" height=\"525px\" width=\"100%\"></iframe>"
      ],
      "text/plain": [
       "<plotly.tools.PlotlyDisplay object>"
      ]
     },
     "execution_count": 52,
     "metadata": {},
     "output_type": "execute_result"
    }
   ],
   "source": [
    "trace1 = Scatter(\n",
    "    x=list(range(1,11)),\n",
    "    y=loss1\n",
    "    )\n",
    "trace2 = Scatter(\n",
    "    x=list(range(1,11)),\n",
    "    y=loss2,\n",
    "    name='1000 features'\n",
    "    )\n",
    "trace3 = Scatter(\n",
    "    x=list(range(1,11)),\n",
    "    y=loss3,\n",
    "    name='4000 features'\n",
    "    )\n",
    "trace4 = Scatter(\n",
    "    x=list(range(1,11)),\n",
    "    y=loss4,\n",
    "    name='8000 features'\n",
    "    )\n",
    "data = Data([trace1])\n",
    "layout = Layout(\n",
    "    title=\"Plot 1.1: Loss by Epoch \",\n",
    "    xaxis=dict(title=\"Epoch\"),\n",
    "    yaxis=dict(title=\"Loss\")\n",
    ")\n",
    "fig=Figure(data=data,layout=layout)\n",
    "py.iplot(fig,filename=\"ZhuantiLSTMLosssByEpoch10\")"
   ]
  },
  {
   "cell_type": "markdown",
   "metadata": {},
   "source": [
    "## Plot Accuracy"
   ]
  },
  {
   "cell_type": "code",
   "execution_count": 53,
   "metadata": {},
   "outputs": [
    {
     "data": {
      "text/html": [
       "<iframe id=\"igraph\" scrolling=\"no\" style=\"border:none;\" seamless=\"seamless\" src=\"https://plot.ly/~evar_3712/24.embed\" height=\"525px\" width=\"100%\"></iframe>"
      ],
      "text/plain": [
       "<plotly.tools.PlotlyDisplay object>"
      ]
     },
     "execution_count": 53,
     "metadata": {},
     "output_type": "execute_result"
    }
   ],
   "source": [
    "trace1 = Scatter(\n",
    "    x=list(range(1,11)),\n",
    "    y=accuracy1\n",
    "    )\n",
    "trace2 = Scatter(\n",
    "    x=list(range(1,11)),\n",
    "    y=accuracy2,\n",
    "    name='1000 features'\n",
    "    )\n",
    "trace3 = Scatter(\n",
    "    x=list(range(1,11)),\n",
    "    y=accuracy3,\n",
    "    name='4000 features'\n",
    "    )\n",
    "trace4 = Scatter(\n",
    "    x=list(range(1,11)),\n",
    "    y=accuracy4,\n",
    "    name='8000 features'\n",
    "    )\n",
    "data = Data([trace1])\n",
    "layout = Layout(\n",
    "    title=\"Plot 1.1: Accuracy by Epoch \",\n",
    "    xaxis=dict(title=\"Epoch\"),\n",
    "    yaxis=dict(title=\"Loss\")\n",
    ")\n",
    "fig=Figure(data=data,layout=layout)\n",
    "py.iplot(fig,filename=\"ZhuantiLSTMAccuracyByEpoch10\")"
   ]
  },
  {
   "cell_type": "code",
   "execution_count": null,
   "metadata": {},
   "outputs": [],
   "source": []
  }
 ],
 "metadata": {
  "kernelspec": {
   "display_name": "Python 3",
   "language": "python",
   "name": "python3"
  },
  "language_info": {
   "codemirror_mode": {
    "name": "ipython",
    "version": 3
   },
   "file_extension": ".py",
   "mimetype": "text/x-python",
   "name": "python",
   "nbconvert_exporter": "python",
   "pygments_lexer": "ipython3",
   "version": "3.6.5"
  }
 },
 "nbformat": 4,
 "nbformat_minor": 2
}
