{
 "cells": [
  {
   "cell_type": "markdown",
   "metadata": {},
   "source": [
    "# Evolutionary Programming HW1"
   ]
  },
  {
   "cell_type": "code",
   "execution_count": 1,
   "metadata": {
    "collapsed": true
   },
   "outputs": [],
   "source": [
    "#Import Individual, OneRunGA and OneRunGAMultRun Classes\n",
    "from OneMaxGAMultRun import *"
   ]
  },
  {
   "cell_type": "code",
   "execution_count": 2,
   "metadata": {
    "collapsed": true
   },
   "outputs": [],
   "source": [
    "#Import plotly\n",
    "import plotly.plotly as py\n",
    "import plotly.graph_objs as go\n",
    "import plotly.figure_factory as ff\n",
    "import pandas as pd\n",
    "\n",
    "#plotly.tools.set_credentials_file(username='EvaArevalo', api_key='LyrWvnfIuDuldFKnlZVB')\n",
    "plotly.tools.set_credentials_file(username='evar_3712', api_key='b7ZUrlshqrH5CEhDzvmt')"
   ]
  },
  {
   "cell_type": "markdown",
   "metadata": {},
   "source": [
    "## HW1.1"
   ]
  },
  {
   "cell_type": "markdown",
   "metadata": {},
   "source": [
    "(a) The Phenotype for the 8 Queens Problem is as big as the set of all possible configurations of the chessboard with 8 queens. This translates into representing each queen by its coordinates in the 8x8 chessboard. That includes the board configurations with queens checking each other. <b>The size of this set (and thus of the phenotype) is 64 choose 8 = 4,426,165,368 different configurations.</b>\n",
    "\n",
    "(b) To define a Genotype for the 8 Queens Problem, we take into account the constraints of the problem: each column and each row may only have one queen (or selse they'll check each other). <b>Thus, we may represent the posistion of the queens by permutations of 8 numbers in the range (1-8); g=<x1,....,x8> where xi∈[1-8]. </b><br>\n",
    "Here, the position i in the permutation represents the number of column, and the value xi in that position represents the number of the row. This guarantees no repetition in the column and row numbers and a complete description (2 values, col and row) of each of the 8 queen's position. \n",
    "\n",
    "(c) Since this is a permutation and once a number has been selected it can't be chosen again, <b>the size of this set (and thus of the genotype) is 8! = 40,320 different configurations.</b>\n",
    "\n",
    "(d) Most board configurations in the phenotype contain \"illegal\" positions where the queens check each other. Those positions can then be discarded since they can't represent solutions. <b>We're only interested in a subset of the phenotype space that could solve our problem, so if we take into account the constraints of the problem we can reduce the search space.</b><br>\n",
    "The genotype defined in HW1.1(b) achieves this: many phenotypes, illegal representations, have no genotype equivalent.  We only consider cases where no queens check each other horizontally and vertically (Note that each genotype has a unique phenotype representation). "
   ]
  },
  {
   "cell_type": "markdown",
   "metadata": {},
   "source": [
    "## HW1.2"
   ]
  },
  {
   "cell_type": "markdown",
   "metadata": {},
   "source": [
    "Given a fitness function f(x): [0,1]→ℝ, if we want to find an optimal x with precision 0.001, it means that the granularity of our soltion must be at least 10^-3. This means, we need to encode 1/10^-3 = 1000 different values. <b>Since log2(1000)=9.9, we would need at least 10 bits to achieve this precision for a bit-string Genetic Algorithm.</b>"
   ]
  },
  {
   "cell_type": "markdown",
   "metadata": {},
   "source": [
    "## HW1.3"
   ]
  },
  {
   "cell_type": "markdown",
   "metadata": {},
   "source": [
    "### Run Roulette Wheel Recombination GA"
   ]
  },
  {
   "cell_type": "code",
   "execution_count": 3,
   "metadata": {
    "scrolled": true
   },
   "outputs": [
    {
     "name": "stdout",
     "output_type": "stream",
     "text": [
      "[35.2, 35.5, 34.9, 34.9, 35.3, 36.3, 36.7, 37.3, 37.5, 37.6, 37.9, 37.9, 38.0, 38.6, 39.2, 39.1, 40.0, 40.0, 40.4, 39.9, 40.6, 41.1, 40.7, 41.2, 41.6, 41.6, 41.5, 42.0, 41.9, 42.2, 42.6, 42.8, 43.8, 43.4, 43.4, 43.5, 43.6, 43.3, 44.1, 44.0, 44.5, 44.8, 44.8, 45.3, 44.5, 44.7, 45.1, 45.2, 45.3, 45.6, 45.6, 45.4, 45.4, 45.6, 45.7, 46.1, 46.2, 46.1, 46.0, 46.3, 46.4, 46.3, 46.7, 46.8, 46.7, 47.0, 47.2, 47.3, 46.8, 47.0, 46.7, 47.4, 47.4, 47.6, 47.7, 47.7, 47.4, 47.7, 48.0, 47.6, 47.8, 48.1, 48.0, 47.8, 47.8, 47.8, 47.7, 47.9, 48.4, 48.2, 48.5, 48.2, 48.4, 48.2, 48.3, 48.5, 48.5, 48.6, 48.4, 48.4]\n"
     ]
    }
   ],
   "source": [
    "GArun=OneMaxGAMultRun(genomeLength=50,recombinationProb=1.0,populationSize=200,\n",
    "    generationSize=100,iterations=10);\n",
    "GArun.run(selectionMode=\"rouletteWheel\")\n",
    "print(GArun.getAvgFitness())"
   ]
  },
  {
   "cell_type": "markdown",
   "metadata": {},
   "source": [
    "### Table"
   ]
  },
  {
   "cell_type": "code",
   "execution_count": 5,
   "metadata": {},
   "outputs": [
    {
     "data": {
      "text/html": [
       "<iframe id=\"igraph\" scrolling=\"no\" style=\"border:none;\" seamless=\"seamless\" src=\"https://plot.ly/~evar_3712/14.embed\" height=\"3080px\" width=\"100%\"></iframe>"
      ],
      "text/plain": [
       "<plotly.tools.PlotlyDisplay object>"
      ]
     },
     "execution_count": 5,
     "metadata": {},
     "output_type": "execute_result"
    }
   ],
   "source": [
    "contents = [('Generation',list(range(100))), ('Best Fitness Average',GArun.getAvgFitness())]\n",
    "df = pd.DataFrame.from_items(contents)\n",
    "table = ff.create_table(df)\n",
    "py.iplot(table,filename=\"HW1-3Table\")"
   ]
  },
  {
   "cell_type": "markdown",
   "metadata": {},
   "source": [
    "### Plot"
   ]
  },
  {
   "cell_type": "code",
   "execution_count": 6,
   "metadata": {
    "scrolled": false
   },
   "outputs": [
    {
     "name": "stdout",
     "output_type": "stream",
     "text": [
      "High five! You successfully sent some data to your account on plotly. View your plot in your browser at https://plot.ly/~evar_3712/0 or inside your plot.ly account where it is named 'HW1-3Plot'\n"
     ]
    },
    {
     "data": {
      "text/html": [
       "<iframe id=\"igraph\" scrolling=\"no\" style=\"border:none;\" seamless=\"seamless\" src=\"https://plot.ly/~evar_3712/0.embed\" height=\"525px\" width=\"100%\"></iframe>"
      ],
      "text/plain": [
       "<plotly.tools.PlotlyDisplay object>"
      ]
     },
     "execution_count": 6,
     "metadata": {},
     "output_type": "execute_result"
    }
   ],
   "source": [
    "trace0 = Scatter(\n",
    "    x=list(range(100)),\n",
    "    y=GArun.getAvgFitness()\n",
    "    )\n",
    "\n",
    "data = Data([trace0])\n",
    "layout = Layout(\n",
    "    title=\"Plot 1.3:<br> Average of Best Fitness per generation <br>GA for 50-bit OneMax,10 Iterations <br> (Roulette Wheel recombination)\",\n",
    "    xaxis=dict(title=\"Generation\"),\n",
    "    yaxis=dict(title=\"Best Fitness Avg\")\n",
    ")\n",
    "fig=Figure(data=data,layout=layout)\n",
    "py.iplot(fig,filename=\"HW1-3Plot\")"
   ]
  },
  {
   "cell_type": "markdown",
   "metadata": {},
   "source": [
    "## HW1.4"
   ]
  },
  {
   "cell_type": "markdown",
   "metadata": {
    "collapsed": true
   },
   "source": [
    "### Run Roulette Wheel Recombination GA, fitness constant +1000"
   ]
  },
  {
   "cell_type": "code",
   "execution_count": 7,
   "metadata": {},
   "outputs": [
    {
     "name": "stdout",
     "output_type": "stream",
     "text": [
      "[1035.7, 1035.1, 1034.4, 1035.2, 1034.5, 1034.8, 1034.3, 1034.0, 1034.7, 1034.2, 1034.1, 1034.5, 1035.0, 1034.9, 1034.5, 1035.0, 1034.5, 1034.4, 1034.6, 1035.3, 1034.7, 1034.3, 1034.2, 1034.4, 1034.3, 1034.4, 1034.1, 1034.3, 1034.4, 1034.6, 1034.3, 1035.1, 1035.0, 1034.8, 1034.7, 1034.5, 1034.4, 1034.7, 1034.8, 1035.2, 1035.3, 1035.2, 1034.7, 1035.0, 1034.8, 1034.6, 1034.7, 1034.3, 1035.0, 1034.6, 1034.5, 1034.6, 1034.5, 1034.8, 1034.7, 1034.8, 1035.0, 1034.2, 1033.9, 1034.4, 1034.2, 1034.8, 1035.0, 1034.4, 1034.2, 1034.5, 1034.7, 1034.5, 1033.8, 1034.3, 1034.1, 1034.3, 1034.3, 1034.6, 1034.5, 1034.4, 1034.8, 1034.8, 1034.3, 1034.0, 1034.3, 1034.5, 1033.6, 1034.5, 1034.4, 1034.3, 1034.1, 1034.1, 1034.4, 1034.6, 1033.8, 1034.0, 1034.0, 1034.4, 1034.6, 1034.1, 1033.8, 1033.8, 1034.1, 1033.8]\n"
     ]
    }
   ],
   "source": [
    "GArun2=OneMaxGAMultRun(genomeLength=50,recombinationProb=1.0,populationSize=200,\n",
    "generationSize=100,iterations=10,fitnessConstant=1000);\n",
    "GArun2.run(selectionMode=\"rouletteWheel\")\n",
    "print(GArun2.getAvgFitness())"
   ]
  },
  {
   "cell_type": "code",
   "execution_count": 8,
   "metadata": {
    "collapsed": true
   },
   "outputs": [],
   "source": [
    "#Remove 1000 constant\n",
    "normalizedAvg=[]\n",
    "for avg in GArun2.getAvgFitness():\n",
    "    normalizedAvg.append(avg-1000)"
   ]
  },
  {
   "cell_type": "markdown",
   "metadata": {},
   "source": [
    "### Table"
   ]
  },
  {
   "cell_type": "code",
   "execution_count": 9,
   "metadata": {},
   "outputs": [
    {
     "data": {
      "text/html": [
       "<iframe id=\"igraph\" scrolling=\"no\" style=\"border:none;\" seamless=\"seamless\" src=\"https://plot.ly/~evar_3712/2.embed\" height=\"3080px\" width=\"100%\"></iframe>"
      ],
      "text/plain": [
       "<plotly.tools.PlotlyDisplay object>"
      ]
     },
     "execution_count": 9,
     "metadata": {},
     "output_type": "execute_result"
    }
   ],
   "source": [
    "contents = [('Generation',list(range(100))), ('Best Fitness Average',normalizedAvg)]\n",
    "df = pd.DataFrame.from_items(contents)\n",
    "table = ff.create_table(df)\n",
    "py.iplot(table,filename=\"HW1-4Table\")"
   ]
  },
  {
   "cell_type": "markdown",
   "metadata": {},
   "source": [
    "### Plot"
   ]
  },
  {
   "cell_type": "code",
   "execution_count": 10,
   "metadata": {},
   "outputs": [
    {
     "data": {
      "text/html": [
       "<iframe id=\"igraph\" scrolling=\"no\" style=\"border:none;\" seamless=\"seamless\" src=\"https://plot.ly/~evar_3712/4.embed\" height=\"525px\" width=\"100%\"></iframe>"
      ],
      "text/plain": [
       "<plotly.tools.PlotlyDisplay object>"
      ]
     },
     "execution_count": 10,
     "metadata": {},
     "output_type": "execute_result"
    }
   ],
   "source": [
    "trace1 = Scatter(\n",
    "    x=list(range(100)),\n",
    "    y=normalizedAvg\n",
    "    )\n",
    "    \n",
    "data = Data([trace1])\n",
    "layout = Layout(\n",
    "    title=\"Plot 1.4:<br> Average of Best Fitness per generation <br>GA for 50-bit OneMax, 10 Iterations, +1000 Fitness Constant <br> (Roulette Wheel recombination)\",\n",
    "    xaxis=dict(title=\"Generation\"),\n",
    "    yaxis=dict(title=\"Best Fitness Avg\")\n",
    ")\n",
    "fig=Figure(data=data,layout=layout)\n",
    "py.iplot(fig,filename=\"HW1-4Plot\")"
   ]
  },
  {
   "cell_type": "markdown",
   "metadata": {},
   "source": [
    "## HW1.5"
   ]
  },
  {
   "cell_type": "markdown",
   "metadata": {},
   "source": [
    "<b>Plot 1.3</b> exhibits a <b>smooth and steady improvement</b>. Improvements are stable and not a lot of variation in averaged best fitness over 10 iterations (avgBF from here on). <br>\n",
    "We start with an avgBF of 35.2 in generation 0. We reach an avgBF of 45.6 by Generation 49. We reach an avgBF of 48.4 by generation 99. Thus, most of the improvement is done during the first half of the evolution (10.4 points of improvement for avgBF during the first half of the evolution vs 2.4 points of improvement during thesecond half). <br>\n",
    "The final avgBF of 48.4 is very high, <b>with an overall improvement of 13.2 points in avgBF.</b><br>\n",
    "\n",
    "<b>Plot 1.4</b> on the other hand exhibits <b>huge variations in the avgBF</b>, and the graph is not as smooth as Plot 1.3. Moreover, there is a general <b>trend towards worse avgBF</b>. <br>\n",
    "We start with an avgBF of 35.7 in generation 0. We reach an avgBF of 34.6 by Generation 49. We reach an avgBF of 33.8 by generation 99. <br>\n",
    "The final avgBF of 33.9  at generation 99 exhibits is not only low, but exhibits <b> no improvement at all</b>, and a worse avgBF than that of generation 0 (35.7), by almost 3 points.\n",
    "\n",
    "<b>Conculsion:</b> Adding a constant <b>c=1000</b> to the fitness for evaluating the individuals is thus <b>not suited for this problem</b>. Using the <b>Roulette Wheel</b> selection strategy will yeld a <b>better avgBF</b>, and it will do so <b>very fast</b>."
   ]
  },
  {
   "cell_type": "markdown",
   "metadata": {},
   "source": [
    "## HW1.6"
   ]
  },
  {
   "cell_type": "markdown",
   "metadata": {},
   "source": [
    "#### Run Tournament n=2 Recombination GA"
   ]
  },
  {
   "cell_type": "code",
   "execution_count": 11,
   "metadata": {},
   "outputs": [
    {
     "name": "stdout",
     "output_type": "stream",
     "text": [
      "[35.0, 35.1, 35.0, 34.4, 35.3, 35.9, 35.2, 35.6, 35.7, 35.2, 35.1, 34.1, 34.8, 35.6, 35.6, 35.0, 35.2, 35.2, 35.7, 35.7, 35.0, 36.1, 36.2, 36.1, 35.7, 36.2, 35.7, 35.6, 35.5, 35.7, 36.0, 35.7, 36.2, 36.4, 36.3, 36.0, 36.4, 36.5, 36.2, 35.6, 35.9, 36.2, 36.3, 36.9, 36.5, 35.9, 36.1, 36.3, 36.5, 36.1, 36.5, 36.5, 36.5, 36.4, 36.1, 37.2, 37.0, 37.2, 37.3, 37.1, 37.2, 37.0, 36.8, 36.8, 36.7, 37.0, 37.4, 36.7, 36.7, 36.7, 36.9, 36.7, 36.9, 37.2, 37.0, 36.7, 36.7, 37.6, 36.8, 37.2, 37.0, 37.1, 36.8, 36.7, 37.2, 36.7, 37.0, 36.4, 37.3, 36.7, 36.6, 36.5, 37.3, 37.1, 36.8, 36.5, 36.8, 37.1, 37.3, 37.4]\n"
     ]
    }
   ],
   "source": [
    "GArun3=OneMaxGAMultRun(genomeLength=50,recombinationProb=1.0,populationSize=200,\n",
    "    generationSize=100,iterations=10);\n",
    "GArun3.run(selectionMode=\"tournament\")\n",
    "print(GArun3.getAvgFitness())"
   ]
  },
  {
   "cell_type": "markdown",
   "metadata": {},
   "source": [
    "#### Table"
   ]
  },
  {
   "cell_type": "code",
   "execution_count": 12,
   "metadata": {},
   "outputs": [
    {
     "data": {
      "text/html": [
       "<iframe id=\"igraph\" scrolling=\"no\" style=\"border:none;\" seamless=\"seamless\" src=\"https://plot.ly/~evar_3712/6.embed\" height=\"3080px\" width=\"100%\"></iframe>"
      ],
      "text/plain": [
       "<plotly.tools.PlotlyDisplay object>"
      ]
     },
     "execution_count": 12,
     "metadata": {},
     "output_type": "execute_result"
    }
   ],
   "source": [
    "contents = [('Generation',list(range(100))), ('Best Fitness Average',GArun3.getAvgFitness())]\n",
    "df = pd.DataFrame.from_items(contents)\n",
    "table = ff.create_table(df)\n",
    "py.iplot(table,filename=\"HW1-6Table\")"
   ]
  },
  {
   "cell_type": "markdown",
   "metadata": {},
   "source": [
    "#### Plot"
   ]
  },
  {
   "cell_type": "code",
   "execution_count": 13,
   "metadata": {},
   "outputs": [
    {
     "data": {
      "text/html": [
       "<iframe id=\"igraph\" scrolling=\"no\" style=\"border:none;\" seamless=\"seamless\" src=\"https://plot.ly/~evar_3712/8.embed\" height=\"525px\" width=\"100%\"></iframe>"
      ],
      "text/plain": [
       "<plotly.tools.PlotlyDisplay object>"
      ]
     },
     "execution_count": 13,
     "metadata": {},
     "output_type": "execute_result"
    }
   ],
   "source": [
    "trace2 = Scatter(\n",
    "    x=list(range(100)),\n",
    "    y=GArun3.getAvgFitness()\n",
    "    )\n",
    "\n",
    "data = Data([trace2])\n",
    "layout = Layout(\n",
    "    title=\"Plot 1.6:<br> Average of Best Fitness per generation <br>GA for 50-bit OneMax,10 Iterations <br> (Tournament n=2 recombination)\",\n",
    "    xaxis=dict(title=\"Generation\"),\n",
    "    yaxis=dict(title=\"Best Fitness Avg\")\n",
    ")\n",
    "fig=Figure(data=data,layout=layout)\n",
    "py.iplot(fig,filename=\"HW1-6Plot\")"
   ]
  },
  {
   "cell_type": "markdown",
   "metadata": {},
   "source": [
    "## HW1.7"
   ]
  },
  {
   "cell_type": "markdown",
   "metadata": {},
   "source": [
    "#### Run Tournament n=2 Recombination GA, fitness constant +1000"
   ]
  },
  {
   "cell_type": "code",
   "execution_count": 14,
   "metadata": {},
   "outputs": [
    {
     "name": "stdout",
     "output_type": "stream",
     "text": [
      "[1034.6, 1034.2, 1035.0, 1034.4, 1034.3, 1034.7, 1034.3, 1034.6, 1034.2, 1034.7, 1035.0, 1034.4, 1034.5, 1034.7, 1034.3, 1034.5, 1033.8, 1033.8, 1034.0, 1034.0, 1034.2, 1033.1, 1034.1, 1033.7, 1034.7, 1033.9, 1033.0, 1033.4, 1033.8, 1033.3, 1033.7, 1033.6, 1034.2, 1033.9, 1033.1, 1033.6, 1033.4, 1033.7, 1033.6, 1033.1, 1032.8, 1032.5, 1032.3, 1032.9, 1033.2, 1033.4, 1032.7, 1033.3, 1033.5, 1033.9, 1033.8, 1034.0, 1033.0, 1032.8, 1032.7, 1033.0, 1032.6, 1033.2, 1033.3, 1033.5, 1033.0, 1033.0, 1032.8, 1032.5, 1032.8, 1032.5, 1033.1, 1032.3, 1032.3, 1032.0, 1032.3, 1032.3, 1032.6, 1032.7, 1032.3, 1032.2, 1032.8, 1032.4, 1032.5, 1031.9, 1032.6, 1032.7, 1032.6, 1032.6, 1032.3, 1032.3, 1032.6, 1032.2, 1031.7, 1032.5, 1032.4, 1032.9, 1032.8, 1032.0, 1032.5, 1032.5, 1032.4, 1032.5, 1031.8, 1031.8]\n"
     ]
    }
   ],
   "source": [
    "GArun4=OneMaxGAMultRun(genomeLength=50,recombinationProb=1.0,populationSize=200,\n",
    "    generationSize=100,iterations=10,fitnessConstant=1000);\n",
    "GArun4.run(selectionMode=\"tournament\")\n",
    "print(GArun4.getAvgFitness())"
   ]
  },
  {
   "cell_type": "code",
   "execution_count": 15,
   "metadata": {
    "collapsed": true
   },
   "outputs": [],
   "source": [
    "#Remove 1000 constant\n",
    "normalizedAvg=[]\n",
    "for avg in GArun4.getAvgFitness():\n",
    "    normalizedAvg.append(avg-1000)"
   ]
  },
  {
   "cell_type": "markdown",
   "metadata": {},
   "source": [
    "#### Table"
   ]
  },
  {
   "cell_type": "code",
   "execution_count": 16,
   "metadata": {},
   "outputs": [
    {
     "data": {
      "text/html": [
       "<iframe id=\"igraph\" scrolling=\"no\" style=\"border:none;\" seamless=\"seamless\" src=\"https://plot.ly/~evar_3712/10.embed\" height=\"3080px\" width=\"100%\"></iframe>"
      ],
      "text/plain": [
       "<plotly.tools.PlotlyDisplay object>"
      ]
     },
     "execution_count": 16,
     "metadata": {},
     "output_type": "execute_result"
    }
   ],
   "source": [
    "contents = [('Generation',list(range(100))), ('Best Fitness Average',normalizedAvg)]\n",
    "df = pd.DataFrame.from_items(contents)\n",
    "table = ff.create_table(df)\n",
    "py.iplot(table,filename=\"HW1-7Table\")"
   ]
  },
  {
   "cell_type": "markdown",
   "metadata": {},
   "source": [
    "#### Plot"
   ]
  },
  {
   "cell_type": "code",
   "execution_count": 17,
   "metadata": {},
   "outputs": [
    {
     "data": {
      "text/html": [
       "<iframe id=\"igraph\" scrolling=\"no\" style=\"border:none;\" seamless=\"seamless\" src=\"https://plot.ly/~evar_3712/12.embed\" height=\"525px\" width=\"100%\"></iframe>"
      ],
      "text/plain": [
       "<plotly.tools.PlotlyDisplay object>"
      ]
     },
     "execution_count": 17,
     "metadata": {},
     "output_type": "execute_result"
    }
   ],
   "source": [
    "trace3 = Scatter(\n",
    "    x=list(range(100)),\n",
    "    y=normalizedAvg\n",
    "    )\n",
    "    \n",
    "data = Data([trace3])\n",
    "layout = Layout(\n",
    "    title=\"Plot 1.7:<br> Average of Best Fitness per generation <br>GA for 50-bit OneMax, 10 Iterations, +1000 Fitness Constant <br> (Tournament n=2 recombination)\",\n",
    "    xaxis=dict(title=\"Generation\"),\n",
    "    yaxis=dict(title=\"Best Fitness Avg\")\n",
    ")\n",
    "fig=Figure(data=data,layout=layout)\n",
    "py.iplot(fig,filename=\"HW1-7Plot\")"
   ]
  },
  {
   "cell_type": "markdown",
   "metadata": {},
   "source": [
    "## HW1.8"
   ]
  },
  {
   "cell_type": "markdown",
   "metadata": {},
   "source": [
    "<b>Plot 1.6</b> exhibits a <b>general trend to improve the avgBF, but this improvement is very slow, since there are huge variations.</b> <br>\n",
    "We start with an avgBF of 35 in generation 0. We reach an avgBF of 36.1 by Generation 49. We reach an avgBF of 37.4 by generation 99. <br>\n",
    "Overall, we only have 2.4 points of improvement at the end of the evolution.\n",
    "\n",
    "<b>Plot 1.7</b> exhibits <b>huge variations in the avgBF as with Plot 1.6, but a general trend towards worse avgBF</b>. <br>\n",
    "We start with an avgBF of 34.6 in generation 0. We reach an avgBF of 33.9 by Generation 49. We reach an avgBF of 31.8 by generation 99. <br>\n",
    "OVerall, we have a worse avgBF than at generation 0 at the end of the evolution, by almost 3 points.\n",
    "\n",
    "<b>Conculsion:</b> Adding a constant <b>c=1000</b> to the fitness for evaluating the individuals is thus <b>not suited for this problem</b>. Using the <b>Tournament</b> selection strategy will yeld a <b>better avgBF</b>, but it will do so <b>slowly</b>. "
   ]
  },
  {
   "cell_type": "markdown",
   "metadata": {},
   "source": [
    "## HW1.9"
   ]
  },
  {
   "cell_type": "markdown",
   "metadata": {},
   "source": [
    "Adding a <b>constant c=1000</b> in Hw1.4 and HW1.6 are <b>not well suited for this problem</b>, they exhibit <b>huge variation</b> and a trend towards <b>worse avgBF</b>.\n",
    "\n",
    "Roulette Wheel in HW1.3 and Tournament(n=2) in HW1.6 can <b>both be used as selection strategies</b> to solve the One-Max 50 bit problem. However, <b>Roulette Wheel</b> yields <b>faster results</b> and is more efficient than Tournament since the improvement in avgBF is <b>steady</b>, as opposed to the <b>huge variations</b> exhibited in HW 1.6 for Tournament selection.  "
   ]
  }
 ],
 "metadata": {
  "kernelspec": {
   "display_name": "Python 3",
   "language": "python",
   "name": "python3"
  },
  "language_info": {
   "codemirror_mode": {
    "name": "ipython",
    "version": 3
   },
   "file_extension": ".py",
   "mimetype": "text/x-python",
   "name": "python",
   "nbconvert_exporter": "python",
   "pygments_lexer": "ipython3",
   "version": "3.6.5"
  }
 },
 "nbformat": 4,
 "nbformat_minor": 2
}
